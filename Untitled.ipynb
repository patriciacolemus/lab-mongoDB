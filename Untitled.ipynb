{
 "cells": [
  {
   "cell_type": "code",
   "execution_count": 1,
   "id": "f56e9fe8-078a-4bfa-9433-7c3cb2bcfe78",
   "metadata": {},
   "outputs": [],
   "source": [
    "# imports\n",
    "from pymongo import MongoClient\n",
    "import pandas as pd\n",
    "\n",
    "# connection with mongo\n",
    "client = MongoClient(\"mongodb://localhost:27017/\")\n",
    "\n",
    "# connection with database \"db_companies\"\n",
    "db = client.db_companies\n",
    "\n",
    "# companies collection\n",
    "collection_companies = db.companies\n",
    "\n",
    "# querying EVERYTHING\n",
    "query = collection_companies.find()\n",
    "\n",
    "# convert to pandas.DataFrame\n",
    "df = pd.DataFrame(query)"
   ]
  },
  {
   "cell_type": "code",
   "execution_count": null,
   "id": "9c88027f-b81c-4054-8ab0-f2eebc717ddc",
   "metadata": {},
   "outputs": [],
   "source": []
  }
 ],
 "metadata": {
  "kernelspec": {
   "display_name": "Python 3 (ipykernel)",
   "language": "python",
   "name": "python3"
  },
  "language_info": {
   "codemirror_mode": {
    "name": "ipython",
    "version": 3
   },
   "file_extension": ".py",
   "mimetype": "text/x-python",
   "name": "python",
   "nbconvert_exporter": "python",
   "pygments_lexer": "ipython3",
   "version": "3.9.7"
  }
 },
 "nbformat": 4,
 "nbformat_minor": 5
}
